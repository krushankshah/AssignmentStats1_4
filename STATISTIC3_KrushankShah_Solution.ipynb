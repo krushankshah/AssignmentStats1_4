{
 "cells": [
  {
   "cell_type": "markdown",
   "metadata": {},
   "source": [
    "2.3. Problem Statement: STATISTICS 3\n",
    "Blood glucose levels for obese patients have a mean of 100 with a standard deviation of 15. A researcher thinks that a diet high in raw cornstarch will have a positive effect on blood glucose levels. A sample of 36 patients who have tried the raw cornstarch diet have a mean glucose level of 108. Test the hypothesis that the raw cornstarch had an effect or not.\n",
    "\n"
   ]
  },
  {
   "cell_type": "code",
   "execution_count": 4,
   "metadata": {},
   "outputs": [
    {
     "name": "stdout",
     "output_type": "stream",
     "text": [
      "H0:μ=100\n",
      "Ha:u≠100\n",
      "α = 0.05\n",
      "\n",
      "The Z-Score is 3.20 :\n",
      "p-value associated with Z-Score 0.9993\n",
      "Probability of having values more than or equals to 108 is: 0.0007\n",
      "\n",
      "Decision: Reject Ho\n",
      "i.e. there is raw cornstarch effect\n"
     ]
    }
   ],
   "source": [
    "import math\n",
    "import scipy.stats\n",
    "no_of_sample = 36\n",
    "sample_mean = 108\n",
    "population_mean = 100\n",
    "population_sigma  = 15\n",
    "\n",
    "#State the hypotheses and significance level. The population mean is 100.\n",
    "print('H0:μ=100\\nHa:u≠100\\nα = 0.05\\n')\n",
    "\n",
    "z = (sample_mean - population_mean) / (population_sigma /math.sqrt(no_of_sample))\n",
    "print('The Z-Score is {:.2f} :'.format(z))\n",
    "pValue = scipy.stats.norm.cdf(3.20)\n",
    "print('p-value associated with Z-Score {:.4f}'.format(pValue))\n",
    "print('Probability of having values more than or equals to 108 is: {:.4f}'.format(1-pValue))\n",
    "print('\\nDecision: Reject Ho\\ni.e. there is raw cornstarch effect')"
   ]
  },
  {
   "cell_type": "markdown",
   "metadata": {},
   "source": [
    "1. In one state, 52% of the voters are Republicans, and 48% are Democrats. In a second state, 47% of the voters are Republicans, and 53% are Democrats. Suppose a simple random sample of 100 voters are surveyed from each state."
   ]
  },
  {
   "cell_type": "code",
   "execution_count": 6,
   "metadata": {},
   "outputs": [
    {
     "name": "stdout",
     "output_type": "stream",
     "text": [
      "mean of difference in sample proportions:\n",
      "E(p1-p2) = 0.05\n",
      "\n",
      "The standard deviation of the difference, std = 0.0706\n",
      "Transform the random variable (p1 - p2) into a z-score:\n",
      "Z-Score = -0.7080 \n"
     ]
    }
   ],
   "source": [
    "#P1 = the proportion of Republican voters in the State1\n",
    "#P2 = the proportion of Republican voters in the State2\n",
    "#p1 = the proportion of Republican voters in the sample from State1\n",
    "#p2 = the proportion of Republican voters in the sample from State2. \n",
    "#number of voters sampled from State1 (n1)=100\n",
    "#number of voters sampled from State2 (n2) =100\n",
    "import math\n",
    "P1,P2,n1,n2 = 0.52,0.47,100,100\n",
    "mu = P1-P2\n",
    "Q1 = 1-P1;Q1\n",
    "Q2 = 1-P2;Q2\n",
    "print('mean of difference in sample proportions:\\nE(p1-p2) = {:.2f}'.format(mu))\n",
    "\n",
    "#std = math.sqrt(((P1 * Q1 ) / n1) + ((P2 * Q2 /n2)))\n",
    "std =math.sqrt((0.52*0.48/100)+ (0.47*0.53/100))\n",
    "print('\\nThe standard deviation of the difference, std = {:.4f}'.format(std))\n",
    "x = 0\n",
    "z = ( x - mu)/std\n",
    "\n",
    "print('Transform the random variable (p1 - p2) into a z-score:\\nZ-Score = {:.4f} '.format(z))"
   ]
  },
  {
   "cell_type": "code",
   "execution_count": 7,
   "metadata": {},
   "outputs": [
    {
     "name": "stdout",
     "output_type": "stream",
     "text": [
      "\n",
      "The probability of a z-score being -0.7082 or less is 0.24\n",
      "The probability that the survey will show a greater percentage of Republican voters in the second state than in the first state is 24%\n"
     ]
    }
   ],
   "source": [
    "pValue = scipy.stats.norm.cdf(z)\n",
    "print('\\nThe probability of a z-score being -0.7082 or less is {:.2f}'.format(pValue))\n",
    "print('The probability that the survey will show a greater percentage of Republican \\\n",
    "voters in the second state than in the first state is {:.0%}'.format(pValue))"
   ]
  },
  {
   "cell_type": "markdown",
   "metadata": {},
   "source": [
    "2. You take the SAT and score 1100. The mean score for the SAT is 1026 and the standard deviation is 209. How well did you score on the test compared to the average test taker?"
   ]
  },
  {
   "cell_type": "code",
   "execution_count": 9,
   "metadata": {},
   "outputs": [
    {
     "name": "stdout",
     "output_type": "stream",
     "text": [
      "Z-Score : 0.354\n",
      "\n",
      "If the z score tells how many standard deviations from the mean your score is, my score is 0.354 standard deviations above the  score of an average test taker\n"
     ]
    }
   ],
   "source": [
    "x = 1100 #\n",
    "mu = 1026 # Population Mean\n",
    "std = 209 #population standard deviation\n",
    "z = ( x - mu)/std\n",
    "print(\"Z-Score : {:.3f}\".format(z))\n",
    "print('\\nIf the z score tells how many standard deviations from the mean your score is,\\\n",
    " my score is {:.3f} standard deviations above the  score of an average test taker'.format(z))"
   ]
  },
  {
   "cell_type": "code",
   "execution_count": null,
   "metadata": {},
   "outputs": [],
   "source": []
  }
 ],
 "metadata": {
  "kernelspec": {
   "display_name": "Python 3",
   "language": "python",
   "name": "python3"
  },
  "language_info": {
   "codemirror_mode": {
    "name": "ipython",
    "version": 3
   },
   "file_extension": ".py",
   "mimetype": "text/x-python",
   "name": "python",
   "nbconvert_exporter": "python",
   "pygments_lexer": "ipython3",
   "version": "3.7.1"
  }
 },
 "nbformat": 4,
 "nbformat_minor": 2
}
